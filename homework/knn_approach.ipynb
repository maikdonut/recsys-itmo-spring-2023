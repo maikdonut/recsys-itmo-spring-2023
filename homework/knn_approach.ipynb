{
 "cells": [
  {
   "cell_type": "code",
   "execution_count": 1,
   "id": "070405fd",
   "metadata": {},
   "outputs": [],
   "source": [
    "from collections import namedtuple\n",
    "\n",
    "import pandas as pd\n",
    "import numpy as np\n",
    "import scipy.stats as ss\n",
    "\n",
    "import matplotlib.pyplot as plt\n",
    "import seaborn as sns\n",
    "from sklearn.neighbors import NearestNeighbors\n",
    "\n",
    "import warnings\n",
    "warnings.filterwarnings(\"ignore\")\n",
    "\n",
    "pd.set_option(\"display.precision\", 3)\n",
    "\n",
    "%matplotlib inline"
   ]
  },
  {
   "cell_type": "code",
   "execution_count": 7,
   "id": "6a24312c",
   "metadata": {},
   "outputs": [],
   "source": [
    "DIR = \"C://Users//Michael//Desktop//\""
   ]
  },
  {
   "cell_type": "code",
   "execution_count": 8,
   "id": "15e72e22",
   "metadata": {},
   "outputs": [
    {
     "data": {
      "text/html": [
       "<div>\n",
       "<style scoped>\n",
       "    .dataframe tbody tr th:only-of-type {\n",
       "        vertical-align: middle;\n",
       "    }\n",
       "\n",
       "    .dataframe tbody tr th {\n",
       "        vertical-align: top;\n",
       "    }\n",
       "\n",
       "    .dataframe thead th {\n",
       "        text-align: right;\n",
       "    }\n",
       "</style>\n",
       "<table border=\"1\" class=\"dataframe\">\n",
       "  <thead>\n",
       "    <tr style=\"text-align: right;\">\n",
       "      <th></th>\n",
       "      <th>message</th>\n",
       "      <th>timestamp</th>\n",
       "      <th>user</th>\n",
       "      <th>track</th>\n",
       "      <th>time</th>\n",
       "      <th>latency</th>\n",
       "      <th>recommendation</th>\n",
       "      <th>experiments</th>\n",
       "    </tr>\n",
       "  </thead>\n",
       "  <tbody>\n",
       "    <tr>\n",
       "      <th>0</th>\n",
       "      <td>last</td>\n",
       "      <td>2022-06-13 11:39:37.645</td>\n",
       "      <td>4013</td>\n",
       "      <td>18934</td>\n",
       "      <td>0.02</td>\n",
       "      <td>2.065e-04</td>\n",
       "      <td>NaN</td>\n",
       "      <td>{'AA': 'T1', 'COLLABORATIVE': 'T1'}</td>\n",
       "    </tr>\n",
       "    <tr>\n",
       "      <th>1</th>\n",
       "      <td>next</td>\n",
       "      <td>2022-06-13 11:39:37.683</td>\n",
       "      <td>9693</td>\n",
       "      <td>29738</td>\n",
       "      <td>1.00</td>\n",
       "      <td>9.019e-04</td>\n",
       "      <td>3079.0</td>\n",
       "      <td>{'AA': 'C', 'COLLABORATIVE': 'C'}</td>\n",
       "    </tr>\n",
       "    <tr>\n",
       "      <th>2</th>\n",
       "      <td>next</td>\n",
       "      <td>2022-06-13 11:39:37.692</td>\n",
       "      <td>9693</td>\n",
       "      <td>3079</td>\n",
       "      <td>0.06</td>\n",
       "      <td>9.229e-04</td>\n",
       "      <td>20078.0</td>\n",
       "      <td>{'AA': 'C', 'COLLABORATIVE': 'C'}</td>\n",
       "    </tr>\n",
       "    <tr>\n",
       "      <th>3</th>\n",
       "      <td>next</td>\n",
       "      <td>2022-06-13 11:39:37.700</td>\n",
       "      <td>9693</td>\n",
       "      <td>20078</td>\n",
       "      <td>1.00</td>\n",
       "      <td>8.581e-04</td>\n",
       "      <td>12044.0</td>\n",
       "      <td>{'AA': 'C', 'COLLABORATIVE': 'C'}</td>\n",
       "    </tr>\n",
       "    <tr>\n",
       "      <th>4</th>\n",
       "      <td>next</td>\n",
       "      <td>2022-06-13 11:39:37.708</td>\n",
       "      <td>9693</td>\n",
       "      <td>12044</td>\n",
       "      <td>0.00</td>\n",
       "      <td>9.272e-04</td>\n",
       "      <td>37424.0</td>\n",
       "      <td>{'AA': 'C', 'COLLABORATIVE': 'C'}</td>\n",
       "    </tr>\n",
       "  </tbody>\n",
       "</table>\n",
       "</div>"
      ],
      "text/plain": [
       "  message               timestamp  user  track  time    latency  \\\n",
       "0    last 2022-06-13 11:39:37.645  4013  18934  0.02  2.065e-04   \n",
       "1    next 2022-06-13 11:39:37.683  9693  29738  1.00  9.019e-04   \n",
       "2    next 2022-06-13 11:39:37.692  9693   3079  0.06  9.229e-04   \n",
       "3    next 2022-06-13 11:39:37.700  9693  20078  1.00  8.581e-04   \n",
       "4    next 2022-06-13 11:39:37.708  9693  12044  0.00  9.272e-04   \n",
       "\n",
       "   recommendation                          experiments  \n",
       "0             NaN  {'AA': 'T1', 'COLLABORATIVE': 'T1'}  \n",
       "1          3079.0    {'AA': 'C', 'COLLABORATIVE': 'C'}  \n",
       "2         20078.0    {'AA': 'C', 'COLLABORATIVE': 'C'}  \n",
       "3         12044.0    {'AA': 'C', 'COLLABORATIVE': 'C'}  \n",
       "4         37424.0    {'AA': 'C', 'COLLABORATIVE': 'C'}  "
      ]
     },
     "execution_count": 8,
     "metadata": {},
     "output_type": "execute_result"
    }
   ],
   "source": [
    "data = pd.read_json(DIR + \"data_seminar_04.json\", lines=True)\n",
    "data.head()"
   ]
  },
  {
   "cell_type": "code",
   "execution_count": 9,
   "id": "70792bdb",
   "metadata": {},
   "outputs": [],
   "source": [
    "data.drop(columns = ['message', 'timestamp', 'experiments', 'recommendation'], inplace=True)"
   ]
  },
  {
   "cell_type": "code",
   "execution_count": 10,
   "id": "e9a0fa36",
   "metadata": {},
   "outputs": [],
   "source": [
    "data['count'] = data.groupby(['user', 'track']).user.transform('size')\n",
    "data = data.groupby(['track'],as_index=False).mean()\n",
    "data.rename(columns={\"time\": \"mean_time\", \"latency\": \"mean_latency\"}, inplace=True)\n",
    "data[['user', 'count']] = data[['user', 'count']].astype('int32')"
   ]
  },
  {
   "cell_type": "code",
   "execution_count": 11,
   "id": "4612fa4a",
   "metadata": {},
   "outputs": [
    {
     "data": {
      "text/html": [
       "<div>\n",
       "<style scoped>\n",
       "    .dataframe tbody tr th:only-of-type {\n",
       "        vertical-align: middle;\n",
       "    }\n",
       "\n",
       "    .dataframe tbody tr th {\n",
       "        vertical-align: top;\n",
       "    }\n",
       "\n",
       "    .dataframe thead th {\n",
       "        text-align: right;\n",
       "    }\n",
       "</style>\n",
       "<table border=\"1\" class=\"dataframe\">\n",
       "  <thead>\n",
       "    <tr style=\"text-align: right;\">\n",
       "      <th></th>\n",
       "      <th>track</th>\n",
       "      <th>user</th>\n",
       "      <th>mean_time</th>\n",
       "      <th>mean_latency</th>\n",
       "      <th>count</th>\n",
       "    </tr>\n",
       "  </thead>\n",
       "  <tbody>\n",
       "    <tr>\n",
       "      <th>0</th>\n",
       "      <td>0</td>\n",
       "      <td>1625</td>\n",
       "      <td>1.000</td>\n",
       "      <td>7.937e-04</td>\n",
       "      <td>1</td>\n",
       "    </tr>\n",
       "    <tr>\n",
       "      <th>1</th>\n",
       "      <td>7</td>\n",
       "      <td>5026</td>\n",
       "      <td>0.346</td>\n",
       "      <td>8.096e-04</td>\n",
       "      <td>1</td>\n",
       "    </tr>\n",
       "    <tr>\n",
       "      <th>2</th>\n",
       "      <td>8</td>\n",
       "      <td>4984</td>\n",
       "      <td>0.377</td>\n",
       "      <td>8.434e-04</td>\n",
       "      <td>1</td>\n",
       "    </tr>\n",
       "    <tr>\n",
       "      <th>3</th>\n",
       "      <td>10</td>\n",
       "      <td>4500</td>\n",
       "      <td>0.449</td>\n",
       "      <td>8.800e-04</td>\n",
       "      <td>1</td>\n",
       "    </tr>\n",
       "    <tr>\n",
       "      <th>4</th>\n",
       "      <td>12</td>\n",
       "      <td>4840</td>\n",
       "      <td>0.426</td>\n",
       "      <td>8.535e-04</td>\n",
       "      <td>2</td>\n",
       "    </tr>\n",
       "  </tbody>\n",
       "</table>\n",
       "</div>"
      ],
      "text/plain": [
       "   track  user  mean_time  mean_latency  count\n",
       "0      0  1625      1.000     7.937e-04      1\n",
       "1      7  5026      0.346     8.096e-04      1\n",
       "2      8  4984      0.377     8.434e-04      1\n",
       "3     10  4500      0.449     8.800e-04      1\n",
       "4     12  4840      0.426     8.535e-04      2"
      ]
     },
     "execution_count": 11,
     "metadata": {},
     "output_type": "execute_result"
    }
   ],
   "source": [
    "data.head()"
   ]
  },
  {
   "cell_type": "code",
   "execution_count": 12,
   "id": "b36e55be",
   "metadata": {},
   "outputs": [
    {
     "data": {
      "text/html": [
       "<div>\n",
       "<style scoped>\n",
       "    .dataframe tbody tr th:only-of-type {\n",
       "        vertical-align: middle;\n",
       "    }\n",
       "\n",
       "    .dataframe tbody tr th {\n",
       "        vertical-align: top;\n",
       "    }\n",
       "\n",
       "    .dataframe thead th {\n",
       "        text-align: right;\n",
       "    }\n",
       "</style>\n",
       "<table border=\"1\" class=\"dataframe\">\n",
       "  <thead>\n",
       "    <tr style=\"text-align: right;\">\n",
       "      <th></th>\n",
       "      <th>artist</th>\n",
       "      <th>title</th>\n",
       "      <th>track</th>\n",
       "    </tr>\n",
       "  </thead>\n",
       "  <tbody>\n",
       "    <tr>\n",
       "      <th>0</th>\n",
       "      <td>Jack Johnson</td>\n",
       "      <td>The Cove</td>\n",
       "      <td>0</td>\n",
       "    </tr>\n",
       "    <tr>\n",
       "      <th>1</th>\n",
       "      <td>Billy Preston</td>\n",
       "      <td>Nothing from Nothing</td>\n",
       "      <td>1</td>\n",
       "    </tr>\n",
       "    <tr>\n",
       "      <th>2</th>\n",
       "      <td>Paco De Lucia</td>\n",
       "      <td>Entre Dos Aguas</td>\n",
       "      <td>2</td>\n",
       "    </tr>\n",
       "    <tr>\n",
       "      <th>3</th>\n",
       "      <td>Josh Rouse</td>\n",
       "      <td>Under Cold Blue Stars</td>\n",
       "      <td>3</td>\n",
       "    </tr>\n",
       "    <tr>\n",
       "      <th>4</th>\n",
       "      <td>The Dead 60s</td>\n",
       "      <td>Riot Radio (Soundtrack Version)</td>\n",
       "      <td>4</td>\n",
       "    </tr>\n",
       "  </tbody>\n",
       "</table>\n",
       "</div>"
      ],
      "text/plain": [
       "          artist                            title  track\n",
       "0   Jack Johnson                         The Cove      0\n",
       "1  Billy Preston             Nothing from Nothing      1\n",
       "2  Paco De Lucia                  Entre Dos Aguas      2\n",
       "3     Josh Rouse            Under Cold Blue Stars      3\n",
       "4   The Dead 60s  Riot Radio (Soundtrack Version)      4"
      ]
     },
     "execution_count": 12,
     "metadata": {},
     "output_type": "execute_result"
    }
   ],
   "source": [
    "tracks = pd.read_json(DIR + \"recsys-itmo-spring-2023/botify/data/tracks.json\", lines=True)\n",
    "tracks.head()"
   ]
  },
  {
   "cell_type": "code",
   "execution_count": 13,
   "id": "d889676e",
   "metadata": {},
   "outputs": [
    {
     "data": {
      "text/html": [
       "<div>\n",
       "<style scoped>\n",
       "    .dataframe tbody tr th:only-of-type {\n",
       "        vertical-align: middle;\n",
       "    }\n",
       "\n",
       "    .dataframe tbody tr th {\n",
       "        vertical-align: top;\n",
       "    }\n",
       "\n",
       "    .dataframe thead th {\n",
       "        text-align: right;\n",
       "    }\n",
       "</style>\n",
       "<table border=\"1\" class=\"dataframe\">\n",
       "  <thead>\n",
       "    <tr style=\"text-align: right;\">\n",
       "      <th></th>\n",
       "      <th>track</th>\n",
       "      <th>user</th>\n",
       "      <th>mean_time</th>\n",
       "      <th>mean_latency</th>\n",
       "      <th>count</th>\n",
       "      <th>artist</th>\n",
       "      <th>title</th>\n",
       "    </tr>\n",
       "  </thead>\n",
       "  <tbody>\n",
       "    <tr>\n",
       "      <th>0</th>\n",
       "      <td>0</td>\n",
       "      <td>1625</td>\n",
       "      <td>1.000</td>\n",
       "      <td>7.937e-04</td>\n",
       "      <td>1</td>\n",
       "      <td>Jack Johnson</td>\n",
       "      <td>The Cove</td>\n",
       "    </tr>\n",
       "    <tr>\n",
       "      <th>1</th>\n",
       "      <td>7</td>\n",
       "      <td>5026</td>\n",
       "      <td>0.346</td>\n",
       "      <td>8.096e-04</td>\n",
       "      <td>1</td>\n",
       "      <td>Kanye West</td>\n",
       "      <td>Stronger</td>\n",
       "    </tr>\n",
       "    <tr>\n",
       "      <th>2</th>\n",
       "      <td>8</td>\n",
       "      <td>4984</td>\n",
       "      <td>0.377</td>\n",
       "      <td>8.434e-04</td>\n",
       "      <td>1</td>\n",
       "      <td>Jack Johnson</td>\n",
       "      <td>Constellations</td>\n",
       "    </tr>\n",
       "    <tr>\n",
       "      <th>3</th>\n",
       "      <td>10</td>\n",
       "      <td>4500</td>\n",
       "      <td>0.449</td>\n",
       "      <td>8.800e-04</td>\n",
       "      <td>1</td>\n",
       "      <td>Foo Fighters</td>\n",
       "      <td>Learn To Fly</td>\n",
       "    </tr>\n",
       "    <tr>\n",
       "      <th>4</th>\n",
       "      <td>12</td>\n",
       "      <td>4840</td>\n",
       "      <td>0.426</td>\n",
       "      <td>8.535e-04</td>\n",
       "      <td>2</td>\n",
       "      <td>Lady GaGa</td>\n",
       "      <td>Paper Gangsta</td>\n",
       "    </tr>\n",
       "  </tbody>\n",
       "</table>\n",
       "</div>"
      ],
      "text/plain": [
       "   track  user  mean_time  mean_latency  count        artist           title\n",
       "0      0  1625      1.000     7.937e-04      1  Jack Johnson        The Cove\n",
       "1      7  5026      0.346     8.096e-04      1    Kanye West        Stronger\n",
       "2      8  4984      0.377     8.434e-04      1  Jack Johnson  Constellations\n",
       "3     10  4500      0.449     8.800e-04      1  Foo Fighters    Learn To Fly\n",
       "4     12  4840      0.426     8.535e-04      2     Lady GaGa   Paper Gangsta"
      ]
     },
     "execution_count": 13,
     "metadata": {},
     "output_type": "execute_result"
    }
   ],
   "source": [
    "data = data.merge(tracks, on='track', how='left')\n",
    "data.head()"
   ]
  },
  {
   "cell_type": "code",
   "execution_count": 14,
   "id": "1d29b8d3",
   "metadata": {},
   "outputs": [
    {
     "data": {
      "text/plain": [
       "(19353, 7)"
      ]
     },
     "execution_count": 14,
     "metadata": {},
     "output_type": "execute_result"
    }
   ],
   "source": [
    "data.shape"
   ]
  },
  {
   "cell_type": "code",
   "execution_count": 15,
   "id": "c04f7655",
   "metadata": {},
   "outputs": [
    {
     "name": "stdout",
     "output_type": "stream",
     "text": [
      "Unique users: 7062\n",
      "Unique tracks: 19353\n",
      "Unique artists: 5269\n"
     ]
    }
   ],
   "source": [
    "unique_users = data[\"user\"].unique().shape[0]\n",
    "unique_tracks = data[\"track\"].unique().shape[0]\n",
    "unique_artists = data[\"artist\"].unique().shape[0]\n",
    "\n",
    "print(f'Unique users: {unique_users}')\n",
    "print(f'Unique tracks: {unique_tracks}')\n",
    "print(f'Unique artists: {unique_artists}')"
   ]
  },
  {
   "cell_type": "code",
   "execution_count": 16,
   "id": "3d7d7632",
   "metadata": {},
   "outputs": [
    {
     "data": {
      "image/png": "[encoded data removed]",
      "text/plain": [
       "<Figure size 1152x576 with 1 Axes>"
      ]
     },
     "metadata": {
      "needs_background": "light"
     },
     "output_type": "display_data"
    }
   ],
   "source": [
    "song_user = data.groupby('user')['track'].count()\n",
    "plt.figure(figsize=(16, 8))\n",
    "sns.distplot(song_user.values)\n",
    "plt.gca().spines['top'].set_visible(False)\n",
    "plt.gca().spines['right'].set_visible(False)\n",
    "plt.show();"
   ]
  },
  {
   "cell_type": "code",
   "execution_count": 17,
   "id": "43a99daa",
   "metadata": {},
   "outputs": [
    {
     "name": "stdout",
     "output_type": "stream",
     "text": [
      "A user listens to an average of 2.0 songs, with minimum 1 and maximum 18 songs\n"
     ]
    }
   ],
   "source": [
    "print(f\"A user listens to an average of {np.median(song_user)} songs, with minimum {np.min(song_user)} and maximum {np.max(song_user)} songs\")"
   ]
  },
  {
   "cell_type": "code",
   "execution_count": 18,
   "id": "4d6e00d2",
   "metadata": {},
   "outputs": [],
   "source": [
    "df_songs_features = data.pivot(index='user', columns='track', values='count').fillna(0)"
   ]
  },
  {
   "cell_type": "code",
   "execution_count": 19,
   "id": "97550ad0",
   "metadata": {},
   "outputs": [],
   "source": [
    "knn = NearestNeighbors(n_neighbors=50,metric='cosine')\n",
    "Model = knn.fit(df_songs_features)"
   ]
  },
  {
   "cell_type": "code",
   "execution_count": 20,
   "id": "c2ebdf7d",
   "metadata": {},
   "outputs": [],
   "source": [
    "user = df_songs_features.iloc[1,]\n",
    "distances, indices = Model.kneighbors([user])\n",
    "\n",
    "neighbors=[]\n",
    "for item in indices[0][1:]:\n",
    "    neighbors.append(data[data.index == item].user.values[0])\n",
    "\n",
    "neighbor_songs=pd.DataFrame(columns=data.columns)\n",
    "for item in neighbors:\n",
    "    neighbor_songs=neighbor_songs.append(data[data.user == item],ignore_index = True)\n",
    "#neighbor_songs"
   ]
  },
  {
   "cell_type": "code",
   "execution_count": 21,
   "id": "8b58fa9c",
   "metadata": {},
   "outputs": [],
   "source": [
    "neighbor_songs.sort_values(by=['count'],ascending=False,inplace=True)"
   ]
  },
  {
   "cell_type": "code",
   "execution_count": 23,
   "id": "d4b71f46",
   "metadata": {},
   "outputs": [],
   "source": [
    "recs = {}\n",
    "for i in df_songs_features.index:\n",
    "    user = df_songs_features.loc[i,]\n",
    "    distances, indices = Model.kneighbors([user])\n",
    "    neighbors=[]\n",
    "    for item in indices[0][1:]:\n",
    "        neighbors.append(data[data.index == item].user.values[0])\n",
    "        \n",
    "    neighbor_songs=pd.DataFrame(columns=data.columns)\n",
    "    for item in neighbors:\n",
    "        neighbor_songs=neighbor_songs.append(data[data.user == item],ignore_index = True)\n",
    "    neighbor_songs.sort_values(by=['count'],ascending=False,inplace=True)\n",
    "    recs[i] = list(neighbor_songs.iloc[:99].track.values)"
   ]
  },
  {
   "cell_type": "code",
   "execution_count": 100,
   "id": "74c81c78",
   "metadata": {},
   "outputs": [],
   "source": [
    "with open(DIR + \"knn_v2.json\", \"w\") as rf:\n",
    "    for user in recs.keys():\n",
    "        recommendation = {\n",
    "            \"user\": int(user),\n",
    "            \"tracks\": recs[user]\n",
    "        }\n",
    "        rf.write(json.dumps(recommendation) + \"\\n\")"
   ]
  }
 ],
 "metadata": {
  "kernelspec": {
   "display_name": "Python 3 (ipykernel)",
   "language": "python",
   "name": "python3"
  },
  "language_info": {
   "codemirror_mode": {
    "name": "ipython",
    "version": 3
   },
   "file_extension": ".py",
   "mimetype": "text/x-python",
   "name": "python",
   "nbconvert_exporter": "python",
   "pygments_lexer": "ipython3",
   "version": "3.9.7"
  }
 },
 "nbformat": 4,
 "nbformat_minor": 5
}
